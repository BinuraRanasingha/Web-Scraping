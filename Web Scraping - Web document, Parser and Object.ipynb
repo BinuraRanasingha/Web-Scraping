{
 "cells": [
  {
   "cell_type": "code",
   "execution_count": 5,
   "id": "a33c739f-c449-440a-8e2b-a11b34881855",
   "metadata": {},
   "outputs": [],
   "source": [
    "from bs4 import BeautifulSoup"
   ]
  },
  {
   "cell_type": "code",
   "execution_count": 6,
   "id": "f97557dd-e189-4886-b767-a7f63b24f073",
   "metadata": {},
   "outputs": [],
   "source": [
    "#Creating an html document\n",
    "html_doc = \"\"\"<html>\n",
    "<body>\n",
    "<h1>My first heading</h1>\n",
    "<b><!--This is a comment line--></b>\n",
    "<p title=\"About Me\" class='test'>My first paragraph.</p>\n",
    "<div class='cities'>\n",
    "<h2>London</h2>\n",
    "</div>\n",
    "</body>\n",
    "</html>\"\"\""
   ]
  },
  {
   "cell_type": "code",
   "execution_count": 3,
   "id": "fe1928e9-1c28-4bb9-943c-bbf19a709a7e",
   "metadata": {},
   "outputs": [],
   "source": [
    "#Parsing it using the html parser\n",
    "soup = BeautifulSoup(html_doc, 'html.parser')"
   ]
  },
  {
   "cell_type": "code",
   "execution_count": 4,
   "id": "b1a79f6b-12ef-4fc1-aa51-8cb8288125c7",
   "metadata": {},
   "outputs": [
    {
     "data": {
      "text/plain": [
       "bs4.BeautifulSoup"
      ]
     },
     "execution_count": 4,
     "metadata": {},
     "output_type": "execute_result"
    }
   ],
   "source": [
    "#Viewing the soup type\n",
    "type(soup)"
   ]
  },
  {
   "cell_type": "code",
   "execution_count": 7,
   "id": "3ce64ec2-b173-4944-95b9-abcfe0919c59",
   "metadata": {},
   "outputs": [
    {
     "name": "stdout",
     "output_type": "stream",
     "text": [
      "<html>\n",
      "<body>\n",
      "<h1>My first heading</h1>\n",
      "<b><!--This is a comment line--></b>\n",
      "<p class=\"test\" title=\"About Me\">My first paragraph.</p>\n",
      "<div class=\"cities\">\n",
      "<h2>London</h2>\n",
      "</div>\n",
      "</body>\n",
      "</html>\n"
     ]
    }
   ],
   "source": [
    "#Viewing the soup object\n",
    "print(soup)"
   ]
  },
  {
   "cell_type": "code",
   "execution_count": 8,
   "id": "f287ddce-6e74-4f51-a03f-6c9c337f8c7a",
   "metadata": {},
   "outputs": [],
   "source": [
    "#Creating a tag object\n",
    "tag = soup.p"
   ]
  },
  {
   "cell_type": "code",
   "execution_count": 9,
   "id": "6a362f37-0cd7-41b8-bfd0-a92b439f8e6b",
   "metadata": {},
   "outputs": [
    {
     "data": {
      "text/plain": [
       "bs4.element.Tag"
      ]
     },
     "execution_count": 9,
     "metadata": {},
     "output_type": "execute_result"
    }
   ],
   "source": [
    "#Viewing the tag object type\n",
    "type(tag)"
   ]
  },
  {
   "cell_type": "code",
   "execution_count": 10,
   "id": "aadb832e-8b14-46ee-bec9-28de70633e04",
   "metadata": {},
   "outputs": [
    {
     "name": "stdout",
     "output_type": "stream",
     "text": [
      "<p class=\"test\" title=\"About Me\">My first paragraph.</p>\n"
     ]
    }
   ],
   "source": [
    "#Printing the tag\n",
    "print(tag)"
   ]
  },
  {
   "cell_type": "code",
   "execution_count": 11,
   "id": "aa289f9c-f469-4d9b-ac92-459767e2d368",
   "metadata": {},
   "outputs": [],
   "source": [
    "#Creating a comment object type\n",
    "comment = soup.b.string"
   ]
  },
  {
   "cell_type": "code",
   "execution_count": 12,
   "id": "d57ab785-a359-42d5-8e70-6250534fd2e9",
   "metadata": {},
   "outputs": [
    {
     "data": {
      "text/plain": [
       "bs4.element.Comment"
      ]
     },
     "execution_count": 12,
     "metadata": {},
     "output_type": "execute_result"
    }
   ],
   "source": [
    "#Viewing the comment object type\n",
    "type(comment)"
   ]
  },
  {
   "cell_type": "code",
   "execution_count": 13,
   "id": "66560f6b-154a-4135-b393-06094fc06096",
   "metadata": {},
   "outputs": [
    {
     "data": {
      "text/plain": [
       "'This is a comment line'"
      ]
     },
     "execution_count": 13,
     "metadata": {},
     "output_type": "execute_result"
    }
   ],
   "source": [
    "#Viewing the comment \n",
    "comment"
   ]
  },
  {
   "cell_type": "code",
   "execution_count": 14,
   "id": "4e359e23-3b45-4445-aee1-4f54bbd5bcb0",
   "metadata": {},
   "outputs": [
    {
     "data": {
      "text/plain": [
       "{'title': 'About Me', 'class': ['test']}"
      ]
     },
     "execution_count": 14,
     "metadata": {},
     "output_type": "execute_result"
    }
   ],
   "source": [
    "#Viewing the tag attributes\n",
    "tag.attrs"
   ]
  },
  {
   "cell_type": "code",
   "execution_count": 15,
   "id": "159cf42b-2274-4aa8-b5fd-05e3dd7407a1",
   "metadata": {},
   "outputs": [
    {
     "data": {
      "text/plain": [
       "'My first paragraph.'"
      ]
     },
     "execution_count": 15,
     "metadata": {},
     "output_type": "execute_result"
    }
   ],
   "source": [
    "#Viewing the tag value\n",
    "tag.string"
   ]
  },
  {
   "cell_type": "code",
   "execution_count": 16,
   "id": "1ed7fd3c-11f0-49da-a43f-960525b16ce4",
   "metadata": {},
   "outputs": [
    {
     "data": {
      "text/plain": [
       "bs4.element.NavigableString"
      ]
     },
     "execution_count": 16,
     "metadata": {},
     "output_type": "execute_result"
    }
   ],
   "source": [
    "#Viewing the tag type (Navigable String)\n",
    "type(tag.string)"
   ]
  },
  {
   "cell_type": "code",
   "execution_count": null,
   "id": "0466c60c-2e55-46f8-b530-05a7e904a4aa",
   "metadata": {},
   "outputs": [],
   "source": []
  }
 ],
 "metadata": {
  "kernelspec": {
   "display_name": "Python 3 (ipykernel)",
   "language": "python",
   "name": "python3"
  },
  "language_info": {
   "codemirror_mode": {
    "name": "ipython",
    "version": 3
   },
   "file_extension": ".py",
   "mimetype": "text/x-python",
   "name": "python",
   "nbconvert_exporter": "python",
   "pygments_lexer": "ipython3",
   "version": "3.10.14"
  }
 },
 "nbformat": 4,
 "nbformat_minor": 5
}
