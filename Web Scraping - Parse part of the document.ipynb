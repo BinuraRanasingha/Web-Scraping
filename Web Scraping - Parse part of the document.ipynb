{
 "cells": [
  {
   "cell_type": "code",
   "execution_count": 1,
   "id": "bbed5d4c-d0f5-4194-8afd-5d91fc051eaf",
   "metadata": {},
   "outputs": [],
   "source": [
    "from bs4 import BeautifulSoup, SoupStrainer"
   ]
  },
  {
   "cell_type": "code",
   "execution_count": 2,
   "id": "3ae69ae4-8bc1-44fd-9860-b5635e729654",
   "metadata": {},
   "outputs": [],
   "source": [
    "data_SL = \"\"\"<ul class='content-col_discover'>\n",
    "            <h5>Discover</h5>\n",
    "            <li><a href=\"/resources\" id=\"free_resources\">Free resourcs</a></li>\n",
    "            <li><a href=\"https://community.simplilearn.com\" id=\"community\">Simplilearn community</a></li>\n",
    "            <li><a href=\"/career-data-labs\" id=\"lab\">Career data labs</a></li>\n",
    "            <li><a href=\"/scholarships-for-veterans\" id=\"scholarship\">Free resourcs</a></li>\n",
    "            <li><a href=\"https://www.simplilearn.com/feed/\" id=\"rss\">RSS Feed</a></li>\n",
    "        </ul>\"\"\""
   ]
  },
  {
   "cell_type": "code",
   "execution_count": 3,
   "id": "8a3b2075-10af-4c28-839e-efba827dc858",
   "metadata": {},
   "outputs": [],
   "source": [
    "#Creating a soup object\n",
    "soup_SL = BeautifulSoup(data_SL, \"html.parser\")"
   ]
  },
  {
   "cell_type": "code",
   "execution_count": 4,
   "id": "faf4ac99-4c4a-4a05-8ad0-c544d4fc7f21",
   "metadata": {},
   "outputs": [
    {
     "name": "stdout",
     "output_type": "stream",
     "text": [
      "\n",
      "Discover\n",
      "Free resourcs\n",
      "Simplilearn community\n",
      "Career data labs\n",
      "Free resourcs\n",
      "RSS Feed\n",
      "\n"
     ]
    }
   ],
   "source": [
    "#Parsing only part of the document, text (string) values for tags using getText method\n",
    "print(soup_SL.get_text())"
   ]
  },
  {
   "cell_type": "code",
   "execution_count": 5,
   "id": "132e8d2a-31ea-46a2-b51c-484ad775334e",
   "metadata": {},
   "outputs": [],
   "source": [
    "#Creating object to parse only the id (link) with lab.\n",
    "tags_with_Lablink = SoupStrainer(id='lab')"
   ]
  },
  {
   "cell_type": "code",
   "execution_count": 6,
   "id": "d331b8b9-4a64-485d-95e6-7e6b457333a2",
   "metadata": {},
   "outputs": [
    {
     "name": "stdout",
     "output_type": "stream",
     "text": [
      "<a href=\"/career-data-labs\" id=\"lab\">\n",
      " Career data labs\n",
      "</a>\n",
      "\n"
     ]
    }
   ],
   "source": [
    "#Printing the part of the parsed document\n",
    "print(BeautifulSoup(data_SL, \"html.parser\", parse_only=tags_with_Lablink).prettify())"
   ]
  },
  {
   "cell_type": "code",
   "execution_count": null,
   "id": "15dac918-d676-4f3e-97c2-a0ad099bd548",
   "metadata": {},
   "outputs": [],
   "source": []
  }
 ],
 "metadata": {
  "kernelspec": {
   "display_name": "Python 3 (ipykernel)",
   "language": "python",
   "name": "python3"
  },
  "language_info": {
   "codemirror_mode": {
    "name": "ipython",
    "version": 3
   },
   "file_extension": ".py",
   "mimetype": "text/x-python",
   "name": "python",
   "nbconvert_exporter": "python",
   "pygments_lexer": "ipython3",
   "version": "3.10.14"
  }
 },
 "nbformat": 4,
 "nbformat_minor": 5
}
